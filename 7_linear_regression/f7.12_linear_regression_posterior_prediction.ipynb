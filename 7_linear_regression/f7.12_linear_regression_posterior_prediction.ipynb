{
 "cells": [
  {
   "cell_type": "markdown",
   "metadata": {},
   "source": [
    "Fig. 7.12 - Posterior Prediction for the Linear Regression\n",
    "----------------------------------------------------------"
   ]
  },
  {
   "cell_type": "code",
   "execution_count": 30,
   "metadata": {
    "collapsed": true
   },
   "outputs": [],
   "source": [
    "%matplotlib inline\n",
    "import numpy as np\n",
    "import sklearn.linear_model as lm\n",
    "from sklearn.preprocessing import PolynomialFeatures\n",
    "import matplotlib.pyplot as pl"
   ]
  },
  {
   "cell_type": "code",
   "execution_count": 50,
   "metadata": {
    "collapsed": true
   },
   "outputs": [],
   "source": [
    "def gen_polynomial_data(deg = 2):\n",
    "    x = np.array([-3, -2, 0, 2, 3])\n",
    "    y = 10 + x + x**deg\n",
    "    y = y + np.random.normal(size = len(y), scale=25)\n",
    "    return x,y"
   ]
  },
  {
   "cell_type": "code",
   "execution_count": 51,
   "metadata": {
    "collapsed": false
   },
   "outputs": [],
   "source": [
    "X,y = gen_polynomial_data()\n",
    "poly = PolynomialFeatures(degree = 2)\n",
    "X_train = poly.fit_transform(X[:,None])\n",
    "lr = lm.LinearRegression()\n",
    "lr.fit(X_train,y[:,None])\n",
    "X_plot = np.linspace(-7,7,100)\n",
    "X_test = poly.fit_transform(X_plot[:,None])\n",
    "y_plot = lr.predict(X_test)"
   ]
  },
  {
   "cell_type": "code",
   "execution_count": 52,
   "metadata": {
    "collapsed": false
   },
   "outputs": [
    {
     "data": {
      "text/plain": [
       "<matplotlib.text.Text at 0x10e829f28>"
      ]
     },
     "execution_count": 52,
     "metadata": {},
     "output_type": "execute_result"
    },
    {
     "data": {
      "image/png": "[encoded data removed]",
      "text/plain": [
       "<matplotlib.figure.Figure at 0x10ef20668>"
      ]
     },
     "metadata": {},
     "output_type": "display_data"
    }
   ],
   "source": [
    "fig = pl.figure(figsize = (20, 12))\n",
    "ax = fig.add_subplot(221)\n",
    "ax.plot(x, y, 'ro', alpha = 0.8, mew = 0)\n",
    "ax.plot(X_plot, y_plot, 'k-')\n",
    "ax.spines['top'].set_visible(False)\n",
    "ax.spines['right'].set_visible(False)\n",
    "ax.get_xaxis().tick_bottom()\n",
    "ax.get_yaxis().tick_left()\n",
    "ax.set_xlim(-7,7)\n",
    "ax.set_title(r'MLE plugin')"
   ]
  }
 ],
 "metadata": {
  "kernelspec": {
   "display_name": "Python 3",
   "language": "python",
   "name": "python3"
  },
  "language_info": {
   "codemirror_mode": {
    "name": "ipython",
    "version": 3
   },
   "file_extension": ".py",
   "mimetype": "text/x-python",
   "name": "python",
   "nbconvert_exporter": "python",
   "pygments_lexer": "ipython3",
   "version": "3.5.1"
  }
 },
 "nbformat": 4,
 "nbformat_minor": 0
}
