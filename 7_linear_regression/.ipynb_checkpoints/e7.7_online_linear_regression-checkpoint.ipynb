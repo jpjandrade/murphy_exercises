{
 "cells": [
  {
   "cell_type": "markdown",
   "metadata": {},
   "source": [
    "Ex. 7.7 - Online Linear Regression\n",
    "------------------------"
   ]
  },
  {
   "cell_type": "code",
   "execution_count": 163,
   "metadata": {
    "collapsed": true
   },
   "outputs": [],
   "source": [
    "%matplotlib inline\n",
    "import numpy as np\n",
    "import matplotlib.pyplot as plt"
   ]
  },
  {
   "cell_type": "markdown",
   "metadata": {},
   "source": [
    "Setup: we have an experiment for which we are collecting data in the form of pairs $(x_i, y_i)$, but we have limited storage so we only keep six quantities, the number of collected data itself $N$ and the average and correlations:\n",
    "\n",
    "$$\\overline{x}^{(N)} = \\frac{1}{N} \\sum_{i=1}^N x_i$$\n",
    "\n",
    "$$\\overline{y}^{(N)} = \\frac{1}{N} \\sum_{i=1}^N x_i$$\n",
    "\n",
    "$$c_{xx}^{(N)} = \\frac{1}{N} \\sum_{i=1}^N \\left(x_i - \\overline{x}^{(N)}\\right)^2$$\n",
    "\n",
    "$$c_{xy}^{(N)} = \\frac{1}{N} \\sum_{i=1}^N \\left(x_i - \\overline{x}^{(N)}\\right)\\left(y_i - \\overline{y}^{(N)}\\right)$$\n",
    "\n",
    "$$c_{yy}^{(N)} = \\frac{1}{N} \\sum_{i=1}^N \\left(y_i - \\overline{y}^{(N)}\\right)^2$$\n",
    "\n",
    "These are called _sufficient statistics_ for the linear regression because they are all you need to calculate the coefficients $\\vec{w} = (w_0, w_1)$ of the linear regression:\n",
    "\n",
    "$$w_1 = \\frac{c_{xy}}{c_{xx}}, \\quad w_0 = \\overline{y} - w_1 \\overline{x}$$\n",
    "\n",
    "Therefore when receveing new "
   ]
  },
  {
   "cell_type": "code",
   "execution_count": 164,
   "metadata": {
    "collapsed": true
   },
   "outputs": [],
   "source": [
    "def lin_reg_update_ss(ss, x, y):\n",
    "    \"\"\"\n",
    "    Updates the sufficient statistics vector ss given new scalars x,y\n",
    "    Returns the weights vector w and the new statistics ss\n",
    "    \"\"\"\n",
    "    n, x_avg, y_avg, c_xx, c_xy, c_yy = ss\n",
    "    n_n = n+1\n",
    "    x_avg_n = (n*x_avg + x)/n_n\n",
    "    y_avg_n = (n*y_avg + y)/n_n\n",
    "    c_xy_n = (x*y + n*c_xy + n*x_avg*y_avg - n_n*x_avg_n*y_avg_n)/n_n\n",
    "    c_xx_n = (n*c_xx + ((x - x_avg)**2)*(1-1./n_n))/n_n\n",
    "    c_yy_n = (n*c_yy + ((y - y_avg)**2)*(1-1./n_n))/n_n\n",
    "    \n",
    "    w_1 = c_xy_n / c_xx_n\n",
    "    w_0 = y_avg_n - w_1 * x_avg_n\n",
    "    w = w_0, w_1\n",
    "    ss = n_n, x_avg_n, y_avg_n, c_xx_n, c_xy_n, c_yy_n\n",
    "    return w, ss"
   ]
  },
  {
   "cell_type": "code",
   "execution_count": 165,
   "metadata": {
    "collapsed": false
   },
   "outputs": [],
   "source": [
    "n_train = 21\n",
    "var_train = 8\n",
    "w0_train = -1.5\n",
    "w1_train = 1./9\n",
    "x_train = np.linspace(0,20,n_train)\n",
    "y_train = w0_train + w1_train * x_train + np.sqrt(var_train)*(2*np.random.rand(n_train) - 1)\n",
    "ss = [1,x_train[0],y_train[0],0,0,0]\n",
    "n_hist = np.arange(n_train-1)+1\n",
    "w0_hist  = []\n",
    "w1_hist = []\n",
    "for i in n_hist:\n",
    "    w, ss = lin_reg_update_ss(ss, x_train[i], y_train[i])\n",
    "    w0_hist.append(w[0])\n",
    "    w1_hist.append(w[1])"
   ]
  },
  {
   "cell_type": "code",
   "execution_count": 166,
   "metadata": {
    "collapsed": false
   },
   "outputs": [
    {
     "name": "stdout",
     "output_type": "stream",
     "text": [
      "[-2.02673407  0.10476677]\n",
      "[-2.02673407  0.10476677]\n"
     ]
    }
   ],
   "source": [
    "X = np.vstack((np.ones(n_train), x_train)).T\n",
    "W_norm = np.linalg.inv(X.T.dot(X)).dot(X.T.dot(y_train))\n",
    "w_iter = np.array(w)\n",
    "ss_iter = np.array(ss)\n",
    "\n",
    "print W_norm\n",
    "print w_iter"
   ]
  },
  {
   "cell_type": "code",
   "execution_count": 167,
   "metadata": {
    "collapsed": false
   },
   "outputs": [
    {
     "data": {
      "image/png": "[encoded data removed]",
      "text/plain": [
       "<matplotlib.figure.Figure at 0x10d329f10>"
      ]
     },
     "metadata": {},
     "output_type": "display_data"
    }
   ],
   "source": [
    "fig = plt.figure(figsize = (12,8))\n",
    "ax = fig.add_subplot(111)\n",
    "ax.plot(n_hist, w0_hist, 'ko', label = r'$w_0$')\n",
    "ax.plot(n_hist, w1_hist, 'ro', label = r'$w_1$')\n",
    "ax.axhline(y = w_iter[0], color = 'k', linestyle = '--')\n",
    "ax.axhline(y = w_iter[1], color = 'r', linestyle = '--')\n",
    "ax.axhline(y = w0_train, color = 'k', linestyle = '--', alpha = 0.5)\n",
    "ax.axhline(y = w1_train, color = 'r', linestyle = '--', alpha = 0.5)\n",
    "\n",
    "leg = ax.legend(loc = 'best', numpoints=1, frameon = False)"
   ]
  },
  {
   "cell_type": "code",
   "execution_count": 168,
   "metadata": {
    "collapsed": false
   },
   "outputs": [
    {
     "name": "stdout",
     "output_type": "stream",
     "text": [
      "\n"
     ]
    }
   ],
   "source": [
    "n = len(x_train)\n",
    "xavg = np.average(x_train)\n",
    "yavg = np.average(y_train)\n",
    "cxx = sum((x_train - xavg)**2)/n\n",
    "cyy = sum((y_train - yavg)**2)/n\n",
    "cxy = sum((x_train - xavg)*(y_train - yavg))/n\n",
    "print "
   ]
  },
  {
   "cell_type": "code",
   "execution_count": 169,
   "metadata": {
    "collapsed": false
   },
   "outputs": [
    {
     "name": "stdout",
     "output_type": "stream",
     "text": [
      "[ 10.          -0.97906633  36.66666667   3.8414484    2.8485364 ]\n",
      "10.0 -0.979066327178 36.6666666667 3.8414483951 2.84853640353\n"
     ]
    }
   ],
   "source": [
    "print ss_iter[1:]\n",
    "print xavg, yavg, cxx, cxy, cyy"
   ]
  },
  {
   "cell_type": "code",
   "execution_count": null,
   "metadata": {
    "collapsed": true
   },
   "outputs": [],
   "source": []
  }
 ],
 "metadata": {
  "kernelspec": {
   "display_name": "Python 3",
   "language": "python",
   "name": "python3"
  },
  "language_info": {
   "codemirror_mode": {
    "name": "ipython",
    "version": 3
   },
   "file_extension": ".py",
   "mimetype": "text/x-python",
   "name": "python",
   "nbconvert_exporter": "python",
   "pygments_lexer": "ipython3",
   "version": "3.5.1"
  }
 },
 "nbformat": 4,
 "nbformat_minor": 0
}
