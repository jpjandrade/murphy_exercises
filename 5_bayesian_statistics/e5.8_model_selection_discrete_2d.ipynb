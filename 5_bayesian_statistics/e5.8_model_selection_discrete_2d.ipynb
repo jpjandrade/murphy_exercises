{
 "cells": [
  {
   "cell_type": "markdown",
   "metadata": {},
   "source": [
    "Ex. 5.8 - MLE and model selection for a 2d discrete distribution\n",
    "------------------------------------------------------"
   ]
  },
  {
   "cell_type": "code",
   "execution_count": 2,
   "metadata": {
    "collapsed": false
   },
   "outputs": [],
   "source": [
    "import numpy as np\n",
    "import matplotlib as plt\n",
    "import scipy.stats as sps\n",
    "import scipy.misc as spm\n",
    "import scipy.optimize as spo\n",
    "%matplotlib inline\n",
    "\n",
    "x = np.array([1,1,0,1,1,0,0])\n",
    "y = np.array([1,0,0,0,1,0,1])"
   ]
  },
  {
   "cell_type": "code",
   "execution_count": 11,
   "metadata": {
    "collapsed": false
   },
   "outputs": [],
   "source": [
    "def ll(th, x,y, npar_2=1):\n",
    "    \n",
    "    assert(len(x)==len(y))\n",
    "    n = len(x)\n",
    "    n_00 = sum((x==0)& (y==0))\n",
    "    n_01 = sum((x==0)& (y==1))\n",
    "    n_10 = sum((x==1)& (y==0))\n",
    "    n_11 = sum((x==1)& (y==1))\n",
    "    assert(n_00 + n_01 + n_10 + n_11 == n)\n",
    "    comb = spm.factorial(n)/(spm.factorial(n_00)*spm.factorial(n_10)*spm.factorial(n_01)*spm.factorial(n_11))\n",
    "    if npar_2:\n",
    "        th1, th2 = th        \n",
    "        res = comb * (th1 * th2)**n_11 * (th1 * (1-th2))**n_10 * ((1-th1) * (1-th2))**n_01 * ((1-th1)*th2)**n_00    \n",
    "    else:\n",
    "        th1, th2, th3 = th #th_11, th_10, th_01\n",
    "        res = comb * th1**n_11 * th2**n_10 * th3**n_01 * (1-th1-th2-th3)**n_00 \n",
    "    return res\n",
    "\n",
    "def m_ll(th,x,y,npar_2 = 1):\n",
    "    return -ll(th,x,y,npar_2)"
   ]
  },
  {
   "cell_type": "code",
   "execution_count": 29,
   "metadata": {
    "collapsed": false
   },
   "outputs": [
    {
     "name": "stdout",
     "output_type": "stream",
     "text": [
      "0.0443787891107\n"
     ]
    },
    {
     "data": {
      "text/plain": [
       "array([ 0.57142622,  0.57142622])"
      ]
     },
     "execution_count": 29,
     "metadata": {},
     "output_type": "execute_result"
    }
   ],
   "source": [
    "def mle_2par(x,y):\n",
    "    nx_1 = sum(x==1)\n",
    "    ny_1 = sum(y==1)\n",
    "    n = len(x)\n",
    "    th_1_hat = nx_1 / float(n)\n",
    "    th_2_hat = sum(x==y) / float(n)\n",
    "\n",
    "    return (th_1_hat, th_2_hat)\n",
    "print ll(mle_2par(x,y), x,y)\n",
    "spo.minimize(m_ll, x0 = np.array([0.5,0.5]), args = (x,y,1,), bounds = ((0.,1.),(0.,1.)))['x']"
   ]
  },
  {
   "cell_type": "code",
   "execution_count": 28,
   "metadata": {
    "collapsed": false
   },
   "outputs": [
    {
     "name": "stdout",
     "output_type": "stream",
     "text": [
      "0.0489591921733\n"
     ]
    },
    {
     "data": {
      "text/plain": [
       "array([ 0.28571313,  0.28571313,  0.1428568 ])"
      ]
     },
     "execution_count": 28,
     "metadata": {},
     "output_type": "execute_result"
    }
   ],
   "source": [
    "def mle_4par(x,y):\n",
    "    th_01 = sum((x==0)& (y==1)) / float(n)\n",
    "    th_10 = sum((x==1)& (y==0)) / float(n)\n",
    "    th_11 = sum((x==1)& (y==1)) / float(n)\n",
    "    th_00 = 1 - th_01 - th_10 - th_11\n",
    "\n",
    "    return (th_11, th_10, th_01)\n",
    "\n",
    "print ll(mle_4par(x,y),x,y,0)\n",
    "spo.minimize(m_ll, x0 = np.array([0.25,0.25,0.25]), args = (x,y,0,), bounds = ((0.,1.),(0.,1.), (0.,1.)))['x']"
   ]
  },
  {
   "cell_type": "code",
   "execution_count": 33,
   "metadata": {
    "collapsed": false
   },
   "outputs": [
    {
     "name": "stdout",
     "output_type": "stream",
     "text": [
      "L4 =  0.208076566737\n",
      "L2 =  0.254656860189\n"
     ]
    }
   ],
   "source": [
    "L_4 = 0\n",
    "L_2 = 0\n",
    "for i in range(len(x)):\n",
    "    x_t = np.delete(x, i)\n",
    "    y_t = np.delete(y, i)\n",
    "    L_2 += ll(mle_2par(x_t,y_t),x,y)\n",
    "    L_4 += ll(mle_4par(x_t,y_t),x,y,0)\n",
    "    \n",
    "print 'L_4 = ', L_4\n",
    "print 'L_2 = ', L_2"
   ]
  },
  {
   "cell_type": "code",
   "execution_count": 38,
   "metadata": {
    "collapsed": false
   },
   "outputs": [
    {
     "name": "stdout",
     "output_type": "stream",
     "text": [
      "BIC 2 par =  -1.90153135994\n",
      "BIC 4 par =  -2.86990603141\n"
     ]
    }
   ],
   "source": [
    "BIC_4 = ll(mle_4par(x,y),x,y,0) - 1.5 * np.log(len(x))\n",
    "BIC_2 = ll(mle_2par(x,y),x,y) - 1. * np.log(len(x))\n",
    "\n",
    "print 'BIC 2 par = ', BIC_2\n",
    "print 'BIC 4 par = ', BIC_4"
   ]
  },
  {
   "cell_type": "code",
   "execution_count": null,
   "metadata": {
    "collapsed": true
   },
   "outputs": [],
   "source": []
  }
 ],
 "metadata": {
  "kernelspec": {
   "display_name": "Python 3",
   "language": "python",
   "name": "python3"
  },
  "language_info": {
   "codemirror_mode": {
    "name": "ipython",
    "version": 3
   },
   "file_extension": ".py",
   "mimetype": "text/x-python",
   "name": "python",
   "nbconvert_exporter": "python",
   "pygments_lexer": "ipython3",
   "version": "3.5.1"
  }
 },
 "nbformat": 4,
 "nbformat_minor": 0
}
