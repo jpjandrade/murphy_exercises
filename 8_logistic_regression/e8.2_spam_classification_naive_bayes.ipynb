{
 "cells": [
  {
   "cell_type": "markdown",
   "metadata": {},
   "source": [
    "Ex 8.2 - Spam classification using Naive Bayes\n",
    "=============================================="
   ]
  },
  {
   "cell_type": "code",
   "execution_count": 1,
   "metadata": {
    "collapsed": true
   },
   "outputs": [],
   "source": [
    "import numpy as np\n",
    "import scipy.io as spio"
   ]
  },
  {
   "cell_type": "code",
   "execution_count": 7,
   "metadata": {
    "collapsed": true
   },
   "outputs": [],
   "source": [
    "def load_data():\n",
    "    '''\n",
    "    Loads the data from the matlab file and returns\n",
    "    as numpy arrays with nice formatting\n",
    "    '''\n",
    "    A = spio.loadmat('../data/spam_data.mat')\n",
    "    X_train = A['Xtrain']\n",
    "    X_test = A['Xtest']\n",
    "    y_train = A['ytrain'].flatten().astype(int)\n",
    "    y_test = A['ytest'].flatten().astype(int)\n",
    "\n",
    "    return X_train, X_test, y_train, y_test\n",
    "\n",
    "def standarize_data(data):\n",
    "    '''\n",
    "    Returns data standarized so each column will have\n",
    "    mean 0 and unit variance\n",
    "    '''\n",
    "    X_train, X_test, y_train, y_test = data\n",
    "    # Train\n",
    "    X_average = np.average(X_train, axis=0)\n",
    "    X_std = np.std(X_train, axis=0)\n",
    "    X_train = (X_train-X_average)/X_std\n",
    "    # test\n",
    "    X_average = np.average(X_test, axis=0)\n",
    "    X_std = np.std(X_test, axis=0)\n",
    "    X_test = (X_test-X_average)/X_std\n",
    "\n",
    "    data = X_train, X_test, y_train, y_test\n",
    "    return data\n",
    "\n",
    "\n",
    "def transform_log_scale(data):\n",
    "    '''\n",
    "    Transform the data to log, making sure it's not NaN!\n",
    "    '''\n",
    "    X_train, X_test, y_train, y_test = data\n",
    "    X_train = np.log(X_train + 0.001)\n",
    "    X_test = np.log(X_test + 0.001)\n",
    "    data = X_train, X_test, y_train, y_test\n",
    "    return data\n",
    "\n",
    "\n",
    "def binarize_data(data):\n",
    "    '''\n",
    "    Returns binarized data so that each entry will be\n",
    "    just 0 or 1\n",
    "    '''\n",
    "    X_train, X_test, y_train, y_test = data\n",
    "    X_train = (X_train > 0).astype(int)\n",
    "    X_test = (X_test > 0).astype(int)\n",
    "    data = X_train, X_test, y_train, y_test\n",
    "    return data\n",
    "\n",
    "def naive_bayes(data):\n",
    "    '''\n",
    "    Does naive bayes classification on data,\n",
    "    returning the error rate\n",
    "    '''\n",
    "    X_train, X_test, y_train, y_test = data\n",
    "    mask_spam_train = (y_train == 1)\n",
    "    n_spam = np.sum(mask_spam_train)\n",
    "    pi_spam = n_spam/float(len(y_train))\n",
    "    alpha = 1  # pseudocount\n",
    "    theta_spam = (alpha + np.sum(X_train[mask_spam_train], axis=0))\n",
    "    theta_not_spam = (alpha + np.sum(X_train[~mask_spam_train], axis=0))\n",
    "    theta_spam = theta_spam/float(n_spam + 2*alpha)\n",
    "    theta_not_spam = theta_not_spam / float(n_spam + 2*alpha)\n",
    "    log_prob_spam = (np.log(pi_spam) +\n",
    "                     np.sum(np.log(theta_spam * X_test +\n",
    "                                   (1-theta_spam) * (1-X_test)), axis=1))\n",
    "    log_prob_not_spam = (np.log(1 - pi_spam) +\n",
    "                         np.sum(np.log(theta_not_spam * X_test +\n",
    "                                       (1-theta_not_spam) * (1-X_test)),\n",
    "                                axis=1))\n",
    "    log_odds_spam = log_prob_spam - log_prob_not_spam\n",
    "    y_predicted = (log_odds_spam > 0).astype(int)\n",
    "    error_rate = np.sum(y_predicted != y_test)/len(y_test)\n",
    "    return error_rate\n",
    "\n",
    "\n",
    "def gaussian_naive_bayes(data):\n",
    "    '''\n",
    "    Does gaussian naive bayes classification on data,\n",
    "    returning the error rate\n",
    "    '''\n",
    "    X_train, X_test, y_train, y_test = data\n",
    "    mask_spam_train = (y_train == 1)\n",
    "    n_spam = np.sum(mask_spam_train)\n",
    "    pi_spam = n_spam/len(y_train)\n",
    "    n_test = len(X_test)\n",
    "    mean_spam = np.average(X_train[mask_spam_train], axis=0)\n",
    "    sigma_spam = np.std(X_train[mask_spam_train], axis=0) + 1e-7\n",
    "    mean_not_spam = np.average(X_train[~mask_spam_train], axis=0)\n",
    "    sigma_not_spam = np.std(X_train[~mask_spam_train], axis=0) + 1e-7\n",
    "    norm_spam = 1./2 * np.sum(np.log(n_test * 2 * np.pi * sigma_spam**2))\n",
    "    log_prob_spam = (-np.sum((X_test - mean_spam)**2 /\n",
    "                     (2 * sigma_spam**2), axis=1) +\n",
    "                     np.log(pi_spam) - norm_spam)\n",
    "    norm_n_spam = 1./2 * np.sum(np.log(n_test * 2 * np.pi * sigma_not_spam**2))\n",
    "    log_prob_not_spam = (-np.sum((X_test - mean_not_spam)**2 /\n",
    "                         (2 * sigma_not_spam**2), axis=1) +\n",
    "                         np.log(1 - pi_spam) - norm_n_spam)\n",
    "    log_odds_spam = log_prob_spam - log_prob_not_spam\n",
    "    y_predicted = (log_odds_spam > 0).astype(int)\n",
    "    error_rate = np.sum(y_predicted != y_test)/n_test\n",
    "    return error_rate"
   ]
  },
  {
   "cell_type": "code",
   "execution_count": 8,
   "metadata": {
    "collapsed": false
   },
   "outputs": [],
   "source": [
    "X_train, X_test, y_train, y_test = load_data()\n",
    "data_orig = (X_train, X_test, y_train, y_test)\n",
    "data_standarized = standarize_data(data_orig)\n",
    "data_log_scale = transform_log_scale(data_orig)\n",
    "data_binarized = binarize_data(data_orig)\n",
    "\n",
    "all_data = [data_orig, data_standarized,\n",
    "            data_log_scale, data_binarized]\n",
    "data_names = ['original', 'standarized',\n",
    "              'log_scale', 'binarized']"
   ]
  },
  {
   "cell_type": "code",
   "execution_count": 9,
   "metadata": {
    "collapsed": false
   },
   "outputs": [
    {
     "name": "stdout",
     "output_type": "stream",
     "text": [
      "Naive Bayes error rate for binarized data: 0.09\n",
      "Naive Bayes (gaussian) error rate for original data: 0.19\n",
      "Naive Bayes (gaussian) error rate for standarized data: 0.19\n",
      "Naive Bayes (gaussian) error rate for log_scale data: 0.15\n"
     ]
    }
   ],
   "source": [
    "error_rate = naive_bayes(data_binarized)\n",
    "print('Naive Bayes error rate for binarized data: %.2f' %\n",
    "      error_rate)\n",
    "\n",
    "\n",
    "# Gaussian naive bayes for continuous data\n",
    "\n",
    "for data, data_name in zip(all_data, data_names):\n",
    "    if data_name != 'binarized':\n",
    "        error_rate = gaussian_naive_bayes(data)\n",
    "        print('Naive Bayes (gaussian) error rate for %s data: %.2f' %\n",
    "              (data_name, error_rate))"
   ]
  }
 ],
 "metadata": {
  "kernelspec": {
   "display_name": "Python 3",
   "language": "python",
   "name": "python3"
  },
  "language_info": {
   "codemirror_mode": {
    "name": "ipython",
    "version": 3
   },
   "file_extension": ".py",
   "mimetype": "text/x-python",
   "name": "python",
   "nbconvert_exporter": "python",
   "pygments_lexer": "ipython3",
   "version": "3.5.1"
  }
 },
 "nbformat": 4,
 "nbformat_minor": 0
}
