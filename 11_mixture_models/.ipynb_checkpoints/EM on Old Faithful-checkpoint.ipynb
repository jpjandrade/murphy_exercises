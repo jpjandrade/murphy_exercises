{
 "cells": [
  {
   "cell_type": "code",
   "execution_count": 249,
   "metadata": {
    "collapsed": true
   },
   "outputs": [],
   "source": [
    "%matplotlib inline\n",
    "import numpy as np\n",
    "import matplotlib.pyplot as pl\n",
    "import scipy.stats as sps\n",
    "from IPython import display\n",
    "import matplotlib.cm as cm\n",
    "import time"
   ]
  },
  {
   "cell_type": "code",
   "execution_count": 250,
   "metadata": {
    "collapsed": false
   },
   "outputs": [],
   "source": [
    "def expectation_step(params):\n",
    "    pi_vec, mu, sigma = params\n",
    "    resp = np.array([pi_vec[k] * sps.multivariate_normal.pdf(data_std, mean = mu[k], cov = sigma[k]) for k in range(K)]).T\n",
    "    resp = resp/np.sum(resp, axis = 1)[:,None]\n",
    "    return resp\n",
    "\n",
    "def maximization_step(params, resp):\n",
    "    pi_vec, mu, sigma = params\n",
    "    resp_weighted_sum = np.sum(resp, axis = 0)\n",
    "    pi_vec_new = resp_weighted_sum / N\n",
    "    mu_new = np.array([np.sum(data_std*resp[:,k].reshape(len(resp),1), axis = 0) / resp_weighted_sum[k] for k in range(K)])\n",
    "    sigma_new = np.array([(resp[:,k].reshape(len(resp),1)*(data_std - mu_new[k])).T.dot(data_std - mu_new[k])\n",
    "                           /resp_weighted_sum[k] for k in range(K)])\n",
    "    params_new = (pi_vec_new, mu_new, sigma_new)\n",
    "    return params_new"
   ]
  },
  {
   "cell_type": "code",
   "execution_count": 251,
   "metadata": {
    "collapsed": false
   },
   "outputs": [],
   "source": [
    "data = np.loadtxt('faithful.txt')\n",
    "N = len(data)\n",
    "K = 2\n",
    "duration_of_eruption = data[:,0]\n",
    "time_between_eruptions = data[:,1]\n",
    "doe_std = (duration_of_eruption - np.average(duration_of_eruption))/np.std(duration_of_eruption)\n",
    "tbe_std = (time_between_eruptions - np.average(time_between_eruptions))/np.std(time_between_eruptions)\n",
    "data_std = np.array(zip(doe_std, tbe_std))\n",
    "#init params\n",
    "init_pi_vec = np.random.rand(2)\n",
    "init_pi_vec/=sum(init_pi_vec)\n",
    "init_mu = np.array([[-1., 1.],[1,-1]])\n",
    "init_sigma = np.array([np.identity(2), np.identity(2)])\n",
    "x = np.linspace(-2, 2, 300)\n",
    "y = np.linspace(-2, 2, 300)\n",
    "X,Y = np.meshgrid(x,y)\n",
    "params = (init_pi_vec, init_mu, init_sigma)"
   ]
  },
  {
   "cell_type": "code",
   "execution_count": 255,
   "metadata": {
    "collapsed": false
   },
   "outputs": [
    {
     "data": {
      "image/png": "[encoded data removed]",
      "text/plain": [
       "<matplotlib.figure.Figure at 0x115780990>"
      ]
     },
     "metadata": {},
     "output_type": "display_data"
    },
    {
     "data": {
      "text/plain": [
       "<matplotlib.figure.Figure at 0x115780990>"
      ]
     },
     "metadata": {},
     "output_type": "display_data"
    }
   ],
   "source": [
    "fig = pl.figure()\n",
    "for t in range(50):\n",
    "    resp = expectation_step(params)\n",
    "    params = maximization_step(params, resp)\n",
    "    \n",
    "    pi_vec, mu, sigma = params\n",
    "    Z_0 = sps.multivariate_normal.pdf(np.dstack((X,Y)), mu[0], sigma[0])\n",
    "    level_0 = sps.multivariate_normal.pdf(mu[0]+np.diag(np.sqrt(sigma[0])), mu[0],sigma[0])\n",
    "    Z_1 = sps.multivariate_normal.pdf(np.dstack((X,Y)), mu[1], sigma[1])\n",
    "    level_1 = sps.multivariate_normal.pdf(mu[1]+np.diag(np.sqrt(sigma[1])), mu[1],sigma[1])\n",
    "    ax = fig.add_subplot(111)\n",
    "    ct = ax.contour(X,Y, Z_0, levels = [level_0], colors = 'r', linewidth = 3.)\n",
    "    ct = ax.contour(X,Y, Z_1, levels = [level_1], colors = 'b', linewidth = 3.)  \n",
    "    ax.scatter(data_std[:,0], data_std[:,1], c =  cm.bwr(resp[:,0]), linewidth=0.2)\n",
    "    display.clear_output(wait=True)\n",
    "    display.display(pl.gcf())\n",
    "    time.sleep(0.2)\n",
    "    fig.clf()"
   ]
  },
  {
   "cell_type": "code",
   "execution_count": 253,
   "metadata": {
    "collapsed": false
   },
   "outputs": [],
   "source": [
    "c = resp[:,0].reshape(len(resp), 1)*cm.Reds(1.)+resp[:,1].reshape(len(resp), 1)*cm.Blues(1.)\n",
    "c[c>1.0] = 1.0"
   ]
  },
  {
   "cell_type": "code",
   "execution_count": 254,
   "metadata": {
    "collapsed": false
   },
   "outputs": [
    {
     "data": {
      "text/plain": [
       "array([[[ 0.77327774,  0.87084387],\n",
       "        [ 0.87084387,  1.16226373]],\n",
       "\n",
       "       [[ 0.07362128,  0.04055671],\n",
       "        [ 0.04055671,  0.12922018]]])"
      ]
     },
     "execution_count": 254,
     "metadata": {},
     "output_type": "execute_result"
    }
   ],
   "source": [
    "sigma"
   ]
  },
  {
   "cell_type": "code",
   "execution_count": null,
   "metadata": {
    "collapsed": true
   },
   "outputs": [],
   "source": []
  }
 ],
 "metadata": {
  "kernelspec": {
   "display_name": "Python 2",
   "language": "python",
   "name": "python2"
  },
  "language_info": {
   "codemirror_mode": {
    "name": "ipython",
    "version": 2
   },
   "file_extension": ".py",
   "mimetype": "text/x-python",
   "name": "python",
   "nbconvert_exporter": "python",
   "pygments_lexer": "ipython2",
   "version": "2.7.11"
  }
 },
 "nbformat": 4,
 "nbformat_minor": 0
}
